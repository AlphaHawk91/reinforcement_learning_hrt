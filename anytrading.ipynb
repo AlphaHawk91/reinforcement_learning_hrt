{
 "cells": [
  {
   "cell_type": "code",
   "execution_count": 7,
   "metadata": {},
   "outputs": [
    {
     "name": "stdout",
     "output_type": "stream",
     "text": [
      "Requirement already satisfied: gym-anytrading in ./documents/miniconda3/lib/python3.9/site-packages (2.0.0)\n",
      "Requirement already satisfied: numpy>=1.16.4 in ./documents/miniconda3/lib/python3.9/site-packages (from gym-anytrading) (1.26.4)\n",
      "Requirement already satisfied: matplotlib>=3.1.1 in ./documents/miniconda3/lib/python3.9/site-packages (from gym-anytrading) (3.9.4)\n",
      "Requirement already satisfied: pandas>=0.24.2 in ./documents/miniconda3/lib/python3.9/site-packages (from gym-anytrading) (2.2.2)\n",
      "Requirement already satisfied: gymnasium>=0.29.1 in ./documents/miniconda3/lib/python3.9/site-packages (from gym-anytrading) (1.0.0)\n",
      "Requirement already satisfied: cloudpickle>=1.2.0 in ./documents/miniconda3/lib/python3.9/site-packages (from gymnasium>=0.29.1->gym-anytrading) (3.1.1)\n",
      "Requirement already satisfied: farama-notifications>=0.0.1 in ./documents/miniconda3/lib/python3.9/site-packages (from gymnasium>=0.29.1->gym-anytrading) (0.0.4)\n",
      "Requirement already satisfied: importlib-metadata>=4.8.0 in ./documents/miniconda3/lib/python3.9/site-packages (from gymnasium>=0.29.1->gym-anytrading) (5.0.0)\n",
      "Requirement already satisfied: typing-extensions>=4.3.0 in ./documents/miniconda3/lib/python3.9/site-packages (from gymnasium>=0.29.1->gym-anytrading) (4.12.2)\n",
      "Requirement already satisfied: zipp>=0.5 in ./documents/miniconda3/lib/python3.9/site-packages (from importlib-metadata>=4.8.0->gymnasium>=0.29.1->gym-anytrading) (3.10.0)\n",
      "Requirement already satisfied: packaging>=20.0 in ./documents/miniconda3/lib/python3.9/site-packages (from matplotlib>=3.1.1->gym-anytrading) (21.3)\n",
      "Requirement already satisfied: pillow>=8 in ./documents/miniconda3/lib/python3.9/site-packages (from matplotlib>=3.1.1->gym-anytrading) (9.3.0)\n",
      "Requirement already satisfied: kiwisolver>=1.3.1 in ./documents/miniconda3/lib/python3.9/site-packages (from matplotlib>=3.1.1->gym-anytrading) (1.4.7)\n",
      "Requirement already satisfied: cycler>=0.10 in ./documents/miniconda3/lib/python3.9/site-packages (from matplotlib>=3.1.1->gym-anytrading) (0.12.1)\n",
      "Requirement already satisfied: fonttools>=4.22.0 in ./documents/miniconda3/lib/python3.9/site-packages (from matplotlib>=3.1.1->gym-anytrading) (4.56.0)\n",
      "Requirement already satisfied: python-dateutil>=2.7 in ./documents/miniconda3/lib/python3.9/site-packages (from matplotlib>=3.1.1->gym-anytrading) (2.8.2)\n",
      "Requirement already satisfied: importlib-resources>=3.2.0 in ./documents/miniconda3/lib/python3.9/site-packages (from matplotlib>=3.1.1->gym-anytrading) (6.5.2)\n",
      "Requirement already satisfied: contourpy>=1.0.1 in ./documents/miniconda3/lib/python3.9/site-packages (from matplotlib>=3.1.1->gym-anytrading) (1.3.0)\n",
      "Requirement already satisfied: pyparsing>=2.3.1 in ./documents/miniconda3/lib/python3.9/site-packages (from matplotlib>=3.1.1->gym-anytrading) (3.0.9)\n",
      "Requirement already satisfied: tzdata>=2022.7 in ./documents/miniconda3/lib/python3.9/site-packages (from pandas>=0.24.2->gym-anytrading) (2024.1)\n",
      "Requirement already satisfied: pytz>=2020.1 in ./documents/miniconda3/lib/python3.9/site-packages (from pandas>=0.24.2->gym-anytrading) (2024.1)\n",
      "Requirement already satisfied: six>=1.5 in ./documents/miniconda3/lib/python3.9/site-packages (from python-dateutil>=2.7->matplotlib>=3.1.1->gym-anytrading) (1.16.0)\n",
      "Collecting gym\n",
      "  Downloading gym-0.26.2.tar.gz (721 kB)\n",
      "\u001b[K     |████████████████████████████████| 721 kB 651 kB/s eta 0:00:01\n",
      "\u001b[?25h  Installing build dependencies ... \u001b[?25ldone\n",
      "\u001b[?25h  Getting requirements to build wheel ... \u001b[?25ldone\n",
      "\u001b[?25h    Preparing wheel metadata ... \u001b[?25ldone\n",
      "\u001b[?25hRequirement already satisfied: numpy in ./documents/miniconda3/lib/python3.9/site-packages (1.26.4)\n",
      "Collecting stable-baselines3\n",
      "  Downloading stable_baselines3-2.5.0-py3-none-any.whl (183 kB)\n",
      "\u001b[K     |████████████████████████████████| 183 kB 10.5 MB/s eta 0:00:01\n",
      "\u001b[?25hCollecting gym_notices>=0.0.4\n",
      "  Downloading gym_notices-0.0.8-py3-none-any.whl (3.0 kB)\n",
      "Requirement already satisfied: importlib_metadata>=4.8.0 in ./documents/miniconda3/lib/python3.9/site-packages (from gym) (5.0.0)\n",
      "Requirement already satisfied: cloudpickle>=1.2.0 in ./documents/miniconda3/lib/python3.9/site-packages (from gym) (3.1.1)\n",
      "Collecting torch<3.0,>=2.3\n",
      "  Downloading torch-2.6.0-cp39-cp39-manylinux1_x86_64.whl (766.7 MB)\n",
      "\u001b[K     |████████████████████████████████| 766.7 MB 3.9 kB/s  eta 0:00:01    |██▌                             | 60.4 MB 5.9 MB/s eta 0:02:01     |███████████████████████████████▎| 749.6 MB 8.3 MB/s eta 0:00:03\n",
      "\u001b[?25hRequirement already satisfied: pandas in ./documents/miniconda3/lib/python3.9/site-packages (from stable-baselines3) (2.2.2)\n",
      "Requirement already satisfied: matplotlib in ./documents/miniconda3/lib/python3.9/site-packages (from stable-baselines3) (3.9.4)\n",
      "Requirement already satisfied: gymnasium<1.1.0,>=0.29.1 in ./documents/miniconda3/lib/python3.9/site-packages (from stable-baselines3) (1.0.0)\n",
      "Requirement already satisfied: typing-extensions>=4.3.0 in ./documents/miniconda3/lib/python3.9/site-packages (from gymnasium<1.1.0,>=0.29.1->stable-baselines3) (4.12.2)\n",
      "Requirement already satisfied: farama-notifications>=0.0.1 in ./documents/miniconda3/lib/python3.9/site-packages (from gymnasium<1.1.0,>=0.29.1->stable-baselines3) (0.0.4)\n",
      "Requirement already satisfied: zipp>=0.5 in ./documents/miniconda3/lib/python3.9/site-packages (from importlib_metadata>=4.8.0->gym) (3.10.0)\n",
      "Collecting sympy==1.13.1\n",
      "  Downloading sympy-1.13.1-py3-none-any.whl (6.2 MB)\n",
      "\u001b[K     |████████████████████████████████| 6.2 MB 28.5 MB/s eta 0:00:01\n",
      "\u001b[?25hCollecting filelock\n",
      "  Downloading filelock-3.17.0-py3-none-any.whl (16 kB)\n",
      "Collecting nvidia-cuda-runtime-cu12==12.4.127\n",
      "  Downloading nvidia_cuda_runtime_cu12-12.4.127-py3-none-manylinux2014_x86_64.whl (883 kB)\n",
      "\u001b[K     |████████████████████████████████| 883 kB 104.8 MB/s eta 0:00:01\n",
      "\u001b[?25hCollecting nvidia-cusparselt-cu12==0.6.2\n",
      "  Downloading nvidia_cusparselt_cu12-0.6.2-py3-none-manylinux2014_x86_64.whl (150.1 MB)\n",
      "\u001b[K     |████████████████████████████████| 150.1 MB 10 kB/s  eta 0:00:011\n",
      "\u001b[?25hCollecting nvidia-cusparse-cu12==12.3.1.170\n",
      "  Downloading nvidia_cusparse_cu12-12.3.1.170-py3-none-manylinux2014_x86_64.whl (207.5 MB)\n",
      "\u001b[K     |████████████████████████████████| 207.5 MB 32 kB/s s eta 0:00:01\n",
      "\u001b[?25hCollecting nvidia-nvjitlink-cu12==12.4.127\n",
      "  Downloading nvidia_nvjitlink_cu12-12.4.127-py3-none-manylinux2014_x86_64.whl (21.1 MB)\n",
      "\u001b[K     |████████████████████████████████| 21.1 MB 15.4 MB/s eta 0:00:01\n",
      "\u001b[?25hCollecting nvidia-cudnn-cu12==9.1.0.70\n",
      "  Downloading nvidia_cudnn_cu12-9.1.0.70-py3-none-manylinux2014_x86_64.whl (664.8 MB)\n",
      "\u001b[K     |████████████████████████████████| 664.8 MB 21 kB/s s eta 0:00:01    |██▊                             | 55.6 MB 49.7 MB/s eta 0:00:13     |█████████▎                      | 193.0 MB 35.0 MB/s eta 0:00:14\n",
      "\u001b[?25hCollecting nvidia-cuda-cupti-cu12==12.4.127\n",
      "  Downloading nvidia_cuda_cupti_cu12-12.4.127-py3-none-manylinux2014_x86_64.whl (13.8 MB)\n",
      "\u001b[K     |████████████████████████████████| 13.8 MB 63.9 MB/s eta 0:00:01\n",
      "\u001b[?25hCollecting nvidia-cuda-nvrtc-cu12==12.4.127\n",
      "  Downloading nvidia_cuda_nvrtc_cu12-12.4.127-py3-none-manylinux2014_x86_64.whl (24.6 MB)\n",
      "\u001b[K     |████████████████████████████████| 24.6 MB 61.9 MB/s eta 0:00:01\n",
      "\u001b[?25hCollecting nvidia-cublas-cu12==12.4.5.8\n",
      "  Downloading nvidia_cublas_cu12-12.4.5.8-py3-none-manylinux2014_x86_64.whl (363.4 MB)\n",
      "\u001b[K     |████████████████████████████████| 363.4 MB 15 kB/s s eta 0:00:01    |███████████                     | 125.1 MB 7.8 MB/s eta 0:00:31     |█████████████████████▊          | 246.4 MB 29.8 MB/s eta 0:00:04\n",
      "\u001b[?25h\u001b[31mERROR: Could not install packages due to an OSError: [Errno 28] No space left on device\n",
      "\u001b[0m\n"
     ]
    }
   ],
   "source": [
    "! pip install gym-anytrading\n",
    "! pip install gym numpy stable-baselines3\n"
   ]
  },
  {
   "cell_type": "code",
   "execution_count": 2,
   "metadata": {},
   "outputs": [],
   "source": [
    "import gymnasium as gym\n",
    "import gym_anytrading\n",
    "\n",
    "env = gym.make('forex-v0')\n",
    "# env = gym.make('stocks-v0')"
   ]
  },
  {
   "cell_type": "code",
   "execution_count": 8,
   "metadata": {},
   "outputs": [
    {
     "ename": "ModuleNotFoundError",
     "evalue": "No module named 'stable_baselines3'",
     "output_type": "error",
     "traceback": [
      "\u001b[0;31m---------------------------------------------------------------------------\u001b[0m",
      "\u001b[0;31mModuleNotFoundError\u001b[0m                       Traceback (most recent call last)",
      "Cell \u001b[0;32mIn [8], line 8\u001b[0m\n\u001b[1;32m      6\u001b[0m \u001b[38;5;28;01mfrom\u001b[39;00m \u001b[38;5;21;01mgym_anytrading\u001b[39;00m\u001b[38;5;21;01m.\u001b[39;00m\u001b[38;5;21;01menvs\u001b[39;00m \u001b[38;5;28;01mimport\u001b[39;00m TradingEnv, ForexEnv, StocksEnv, Actions, Positions \n\u001b[1;32m      7\u001b[0m \u001b[38;5;28;01mfrom\u001b[39;00m \u001b[38;5;21;01mgym_anytrading\u001b[39;00m\u001b[38;5;21;01m.\u001b[39;00m\u001b[38;5;21;01mdatasets\u001b[39;00m \u001b[38;5;28;01mimport\u001b[39;00m FOREX_EURUSD_1H_ASK, STOCKS_GOOGL\n\u001b[0;32m----> 8\u001b[0m \u001b[38;5;28;01mfrom\u001b[39;00m \u001b[38;5;21;01mstable_baselines3\u001b[39;00m \u001b[38;5;28;01mimport\u001b[39;00m DQN  \u001b[38;5;66;03m# or PPO, A2C, etc.\u001b[39;00m\n\u001b[1;32m     11\u001b[0m \u001b[38;5;66;03m# env = gym.make('forex-v0', frame_bound=(50, 100), window_size=10)\u001b[39;00m\n\u001b[1;32m     12\u001b[0m env \u001b[38;5;241m=\u001b[39m gym\u001b[38;5;241m.\u001b[39mmake(\u001b[38;5;124m'\u001b[39m\u001b[38;5;124mstocks-v0\u001b[39m\u001b[38;5;124m'\u001b[39m, frame_bound\u001b[38;5;241m=\u001b[39m(\u001b[38;5;241m50\u001b[39m, \u001b[38;5;241m100\u001b[39m), window_size\u001b[38;5;241m=\u001b[39m\u001b[38;5;241m10\u001b[39m)\n",
      "\u001b[0;31mModuleNotFoundError\u001b[0m: No module named 'stable_baselines3'"
     ]
    }
   ],
   "source": [
    "import numpy as np\n",
    "import matplotlib.pyplot as plt\n",
    "\n",
    "import gymnasium as gym\n",
    "import gym_anytrading\n",
    "from gym_anytrading.envs import TradingEnv, ForexEnv, StocksEnv, Actions, Positions \n",
    "from gym_anytrading.datasets import FOREX_EURUSD_1H_ASK, STOCKS_GOOGL\n",
    "from stable_baselines3 import DQN  # or PPO, A2C, etc.\n",
    "\n",
    "\n",
    "# env = gym.make('forex-v0', frame_bound=(50, 100), window_size=10)\n",
    "env = gym.make('stocks-v0', frame_bound=(50, 100), window_size=10)\n",
    "\n",
    "observation = env.reset(seed=2023)\n",
    "while True:\n",
    "    action = env.action_space.sample()\n",
    "    observation, reward, terminated, truncated, info = env.step(action)\n",
    "    done = terminated or truncated\n",
    "\n",
    "    # env.render()\n",
    "    if done:\n",
    "        print(\"info:\", info)\n",
    "        break\n",
    "\n",
    "plt.cla()\n",
    "env.unwrapped.render_all()\n",
    "plt.show()"
   ]
  },
  {
   "cell_type": "code",
   "execution_count": 5,
   "metadata": {},
   "outputs": [
    {
     "ename": "NameError",
     "evalue": "name 'DQN' is not defined",
     "output_type": "error",
     "traceback": [
      "\u001b[0;31m---------------------------------------------------------------------------\u001b[0m",
      "\u001b[0;31mNameError\u001b[0m                                 Traceback (most recent call last)",
      "Cell \u001b[0;32mIn [5], line 1\u001b[0m\n\u001b[0;32m----> 1\u001b[0m model \u001b[38;5;241m=\u001b[39m \u001b[43mDQN\u001b[49m(\u001b[38;5;124m\"\u001b[39m\u001b[38;5;124mMlpPolicy\u001b[39m\u001b[38;5;124m\"\u001b[39m, env, verbose\u001b[38;5;241m=\u001b[39m\u001b[38;5;241m1\u001b[39m)\n\u001b[1;32m      2\u001b[0m model\u001b[38;5;241m.\u001b[39mlearn(total_timesteps\u001b[38;5;241m=\u001b[39m\u001b[38;5;241m10_000\u001b[39m)\n",
      "\u001b[0;31mNameError\u001b[0m: name 'DQN' is not defined"
     ]
    }
   ],
   "source": [
    "model = DQN(\"MlpPolicy\", env, verbose=1)\n",
    "model.learn(total_timesteps=10_000)\n"
   ]
  }
 ],
 "metadata": {
  "kernelspec": {
   "display_name": "base",
   "language": "python",
   "name": "python3"
  },
  "language_info": {
   "codemirror_mode": {
    "name": "ipython",
    "version": 3
   },
   "file_extension": ".py",
   "mimetype": "text/x-python",
   "name": "python",
   "nbconvert_exporter": "python",
   "pygments_lexer": "ipython3",
   "version": "3.9.12"
  }
 },
 "nbformat": 4,
 "nbformat_minor": 2
}
